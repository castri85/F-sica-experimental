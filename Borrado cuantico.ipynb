{
 "cells": [
  {
   "cell_type": "markdown",
   "metadata": {},
   "source": [
    "# Primera pagina es la del pryoecto\n"
   ]
  },
  {
   "cell_type": "code",
   "execution_count": 111,
   "metadata": {},
   "outputs": [],
   "source": [
    "from LightPipes import *\n",
    "import matplotlib.pyplot as plt\n",
    "import numpy as np\n",
    "%matplotlib qt\n",
    "\n",
    "#Parametros\n",
    "wide=300*um #Ancho aproximado del obstaculo\n",
    "wide2=10*mm #Ancho del area polarizada\n",
    "height=100*mm # Altura del cabello\n",
    "lambda_ = 650*nm #longitud de onda\n",
    "size = 50*mm #Tamaño del ampo\n",
    "N = 1000 #Dimensión del campo\n",
    "r=6*mm #Radio del haz gaussiano\n",
    "Theta=[]\n",
    "#Creamos un arreglo del angulo \n",
    "for i in range(N):\n",
    "    Theta.append((-size/N+i*size/N)/mm)\n",
    "    \n",
    "#Definimos el campo electrico y la forma del haz\n",
    "F = Begin(size, lambda_, N)\n",
    "F=GaussBeam(F,r)\n",
    "\n",
    "#Definimos  un obstaculo en elcentro y propagamos una distancia pequeña. Esto simula el espacion entre el pelo y los polarizadores.\n",
    "F=RectAperture(wide,height,0*mm,F)\n",
    "F=Forvard(0.02*m,F)\n",
    "#I=Intensity(0,F);\n",
    "\n",
    "# Se simula un obstaculo que bloquea la mitad del campo. La luz que se deja pasar se considera que pasa por el polarizador 1 y la que se bloquea por el polarizador 2\n",
    "F1=RectScreen(wide2,height,-4.9*mm,F)\n",
    "#Propagamos hasta la pantalla de observacion.\n",
    "F1=Forvard(.5*m,F1)\n",
    "\n",
    "# Se simula un obstaculo que bloquea la mitad del campo. La luz que se deja pasar se considera que pasa por el polarizador 2 y la que se bloquea por el polarizador 1\n",
    "F2=RectScreen(wide2,height,4.9*mm,F)\n",
    "#Propagamos hasta la pantalla de observacion. \n",
    "F2=Forvard(.5*m,F2)\n",
    "\n",
    "\n",
    "\n",
    "#Defnimos entonces una nueva intensidad donde asumamos la contribución de los haces que pasaron por los polarizadores\n",
    "def I(F1,F2,gamma):\n",
    "    E1=F1.field\n",
    "    E2=F2.field\n",
    "    I1=Intensity(0,F1) \n",
    "    I2=Intensity(0,F2) \n",
    "    Intesidad_Resul=I1+I2+(E1)*np.conj(E2)*np.cos(gamma)+np.conj(E1)*(E2)*np.cos(gamma)\n",
    "\n",
    "    return Intesidad_Resul\n",
    "#Si ingresamos un angulo alpha distinto de 0 empezaremos a observar el patrón\n",
    "I=I(F1,F2,0*np.pi/2)\n",
    "#magnitud dela intensidad\n",
    "I=np.abs(I*np.conj(I))\n",
    "#Grafcación\n",
    "plt.imshow((I*100),cmap='hot');plt.axis('on') ; plt.xlabel(\"Pixeles\");plt.ylabel(\"Pixeles\") ; plt.title('intensidad del patron de difracción')\n",
    "plt.figure(2)\n",
    "plt.plot(Theta,I[999],label=\"Intensidad\");plt.ylabel(\"Intensidad\");plt.xlabel(\"Angulo\");#plt.title(\"Intensidad vs angulo\")n de difracción')\n"
   ]
  },
  {
   "cell_type": "code",
   "execution_count": 112,
   "metadata": {},
   "outputs": [],
   "source": [
    "def I(F1,F2,gamma):\n",
    "    E1=F1.field\n",
    "    E2=F2.field\n",
    "    I1=Intensity(0,F1) \n",
    "    I2=Intensity(0,F2) \n",
    "    Intesidad_Resul=I1+I2+(E1)*np.conj(E2)*np.cos(gamma)+np.conj(E1)*(E2)*np.cos(gamma)\n",
    "    return Intesidad_Resul\n",
    "\n",
    "# Se simula un obstaculo que bloquea la mitad del campo. La luz que se deja pasar se considera que pasa por el polarizador 1 y la que se bloquea por el polarizador 2\n",
    "F3=RectScreen(wide2,height,0,F1)\n",
    "#Propagamos hasta la pantalla de observacion.\n",
    "F3=Forvard(.005*m,F3)\n",
    "#Cambiamos simplemente F3 por F2 en las lineas 12 y 10 para observar como el otro maximo se desplaza\n",
    "I2=I(F2,F3,0)\n",
    "I2=np.abs(I2*np.conj(I2))\n",
    "plt.imshow((I2*100),cmap='hot');plt.axis('on') ; plt.xlabel(\"Pixeles\");plt.ylabel(\"Pixeles\") ; plt.title('intensidad del patron de difracción')\n",
    "#Presenta un error debido a que hay valores complejos en la exponencial\n",
    "plt.figure(2)\n",
    "plt.plot(Theta,I2[999],label=\"Intensidad\");plt.ylabel(\"Intensidad\");plt.xlabel(\"Angulo\");#plt.title(\"Intensidad vs angulo\")n de difracción')\n"
   ]
  },
  {
   "cell_type": "code",
   "execution_count": null,
   "metadata": {},
   "outputs": [],
   "source": []
  },
  {
   "cell_type": "code",
   "execution_count": null,
   "metadata": {},
   "outputs": [],
   "source": []
  }
 ],
 "metadata": {
  "kernelspec": {
   "display_name": "Python 3",
   "language": "python",
   "name": "python3"
  },
  "language_info": {
   "codemirror_mode": {
    "name": "ipython",
    "version": 3
   },
   "file_extension": ".py",
   "mimetype": "text/x-python",
   "name": "python",
   "nbconvert_exporter": "python",
   "pygments_lexer": "ipython3",
   "version": "3.7.3"
  }
 },
 "nbformat": 4,
 "nbformat_minor": 4
}
